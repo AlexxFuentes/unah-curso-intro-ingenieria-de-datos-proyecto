{
 "cells": [
  {
   "cell_type": "code",
   "execution_count": 17,
   "id": "51f8ebd4",
   "metadata": {},
   "outputs": [
    {
     "name": "stdout",
     "output_type": "stream",
     "text": [
      "Error al ejecutar el script SQL: Commands out of sync; you can't run this command now\n"
     ]
    },
    {
     "ename": "MySQLInterfaceError",
     "evalue": "Commands out of sync; you can't run this command now",
     "output_type": "error",
     "traceback": [
      "\u001b[0;31m---------------------------------------------------------------------------\u001b[0m",
      "\u001b[0;31mMySQLInterfaceError\u001b[0m                       Traceback (most recent call last)",
      "Cell \u001b[0;32mIn[17], line 21\u001b[0m\n\u001b[1;32m     20\u001b[0m \u001b[38;5;66;03m# Confirma los cambios en la base de datos\u001b[39;00m\n\u001b[0;32m---> 21\u001b[0m \u001b[43mconnection\u001b[49m\u001b[38;5;241;43m.\u001b[39;49m\u001b[43mcommit\u001b[49m\u001b[43m(\u001b[49m\u001b[43m)\u001b[49m\n\u001b[1;32m     23\u001b[0m \u001b[38;5;28mprint\u001b[39m(\u001b[38;5;124m\"\u001b[39m\u001b[38;5;124mScript SQL ejecutado exitosamente.\u001b[39m\u001b[38;5;124m\"\u001b[39m)\n",
      "File \u001b[0;32m~/documents/venv/lib/python3.10/site-packages/mysql/connector/connection_cext.py:490\u001b[0m, in \u001b[0;36mCMySQLConnection.commit\u001b[0;34m(self)\u001b[0m\n\u001b[1;32m    489\u001b[0m \u001b[38;5;28mself\u001b[39m\u001b[38;5;241m.\u001b[39mhandle_unread_result()\n\u001b[0;32m--> 490\u001b[0m \u001b[38;5;28;43mself\u001b[39;49m\u001b[38;5;241;43m.\u001b[39;49m\u001b[43m_cmysql\u001b[49m\u001b[38;5;241;43m.\u001b[39;49m\u001b[43mcommit\u001b[49m\u001b[43m(\u001b[49m\u001b[43m)\u001b[49m\n",
      "\u001b[0;31mMySQLInterfaceError\u001b[0m: Commands out of sync; you can't run this command now",
      "\nDuring handling of the above exception, another exception occurred:\n",
      "\u001b[0;31mMySQLInterfaceError\u001b[0m                       Traceback (most recent call last)",
      "Cell \u001b[0;32mIn[17], line 26\u001b[0m\n\u001b[1;32m     24\u001b[0m \u001b[38;5;28;01mexcept\u001b[39;00m \u001b[38;5;167;01mException\u001b[39;00m \u001b[38;5;28;01mas\u001b[39;00m e:\n\u001b[1;32m     25\u001b[0m     \u001b[38;5;28mprint\u001b[39m(\u001b[38;5;124m\"\u001b[39m\u001b[38;5;124mError al ejecutar el script SQL:\u001b[39m\u001b[38;5;124m\"\u001b[39m, e)\n\u001b[0;32m---> 26\u001b[0m     \u001b[43mconnection\u001b[49m\u001b[38;5;241;43m.\u001b[39;49m\u001b[43mrollback\u001b[49m\u001b[43m(\u001b[49m\u001b[43m)\u001b[49m\n\u001b[1;32m     28\u001b[0m \u001b[38;5;66;03m# Cierra el cursor y la conexión\u001b[39;00m\n\u001b[1;32m     29\u001b[0m cursor\u001b[38;5;241m.\u001b[39mclose()\n",
      "File \u001b[0;32m~/documents/venv/lib/python3.10/site-packages/mysql/connector/connection_cext.py:496\u001b[0m, in \u001b[0;36mCMySQLConnection.rollback\u001b[0;34m(self)\u001b[0m\n\u001b[1;32m    494\u001b[0m \u001b[38;5;28;01mif\u001b[39;00m \u001b[38;5;28mself\u001b[39m\u001b[38;5;241m.\u001b[39m_cmysql:\n\u001b[1;32m    495\u001b[0m     \u001b[38;5;28mself\u001b[39m\u001b[38;5;241m.\u001b[39m_cmysql\u001b[38;5;241m.\u001b[39mconsume_result()\n\u001b[0;32m--> 496\u001b[0m     \u001b[38;5;28;43mself\u001b[39;49m\u001b[38;5;241;43m.\u001b[39;49m\u001b[43m_cmysql\u001b[49m\u001b[38;5;241;43m.\u001b[39;49m\u001b[43mrollback\u001b[49m\u001b[43m(\u001b[49m\u001b[43m)\u001b[49m\n",
      "\u001b[0;31mMySQLInterfaceError\u001b[0m: Commands out of sync; you can't run this command now"
     ]
    }
   ],
   "source": [
    "from core.ConfigConnection import ConfigConnection\n",
    "from core.Backup import Backup\n",
    "from core.Tools import Tools\n",
    "\n",
    "import mysql.connector\n",
    "\n",
    "if __name__ == \"__main__\":\n",
    "    config = ConfigConnection(path=\"./config.ini\")\n",
    "    connection = mysql.connector.connect(**config.getConfig())\n",
    "    cursor = connection.cursor()\n",
    "    t = Tools()\n",
    "    \n",
    "    sql_file = t.readFile('SQL', 'dml-web-scraping.sql')\n",
    "    sql_script = ''.join(sql_file)\n",
    "    \n",
    "    try:\n",
    "        # Ejecuta el script SQL\n",
    "        cursor.execute(sql_script)\n",
    "    \n",
    "        # Confirma los cambios en la base de datos\n",
    "        connection.commit()\n",
    "    \n",
    "        print(\"Script SQL ejecutado exitosamente.\")\n",
    "    except Exception as e:\n",
    "        print(\"Error al ejecutar el script SQL:\", e)\n",
    "        connection.rollback()\n",
    "        \n",
    "    # Cierra el cursor y la conexión\n",
    "    cursor.close()\n",
    "    connection.close()"
   ]
  },
  {
   "cell_type": "code",
   "execution_count": null,
   "id": "dbe341d8",
   "metadata": {},
   "outputs": [],
   "source": []
  },
  {
   "cell_type": "code",
   "execution_count": 13,
   "id": "7cc8c2d8",
   "metadata": {},
   "outputs": [
    {
     "data": {
      "text/plain": [
       "<mysql.connector.cursor_cext.CMySQLCursor at 0x7f5d88176ec0>"
      ]
     },
     "execution_count": 13,
     "metadata": {},
     "output_type": "execute_result"
    }
   ],
   "source": [
    "cursor"
   ]
  }
 ],
 "metadata": {
  "kernelspec": {
   "display_name": "Python 3 (ipykernel)",
   "language": "python",
   "name": "python3"
  },
  "language_info": {
   "codemirror_mode": {
    "name": "ipython",
    "version": 3
   },
   "file_extension": ".py",
   "mimetype": "text/x-python",
   "name": "python",
   "nbconvert_exporter": "python",
   "pygments_lexer": "ipython3",
   "version": "3.10.6"
  }
 },
 "nbformat": 4,
 "nbformat_minor": 5
}
