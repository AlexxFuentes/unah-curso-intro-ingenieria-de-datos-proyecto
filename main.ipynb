{
 "cells": [
  {
   "cell_type": "code",
   "execution_count": 1,
   "id": "51f8ebd4",
   "metadata": {},
   "outputs": [
    {
     "name": "stdout",
     "output_type": "stream",
     "text": [
      "Script SQL ejecutado exitosamente.\n"
     ]
    }
   ],
   "source": [
    "from core.ConfigConnection import ConfigConnection\n",
    "from core.Backup import Backup\n",
    "from core.Tools import Tools\n",
    "\n",
    "import mysql.connector\n",
    "\n",
    "if __name__ == \"__main__\":\n",
    "    config = ConfigConnection(path=\"./config.ini\")\n",
    "    connection = mysql.connector.connect(**config.getConfig())\n",
    "    cursor = connection.cursor()\n",
    "    tools = Tools()\n",
    "    \n",
    "    sql_file = tools.readFile('SQL', 'dml-web-scraping.sql')\n",
    "    sql_script = ''.join(sql_file)\n",
    "\n",
    "    sql_commands = sql_script.split(';')\n",
    "\n",
    "    cursor = connection.cursor()\n",
    "    \n",
    "    try:\n",
    "        # Ejecuta cada comando SQL individual\n",
    "        for command in sql_commands:\n",
    "            try:\n",
    "                if command.strip():\n",
    "                    cursor.execute(command)\n",
    "            except mysql.connector.Error as err:\n",
    "                print(f\"Error executing SQL command: {err}\")\n",
    "           \n",
    "        print(\"Script SQL ejecutado exitosamente.\")\n",
    "    except Exception as e:\n",
    "        print(\"Error al ejecutar el script SQL:\", e)\n",
    "        connection.rollback()\n",
    "    finally:\n",
    "        cursor.close()\n",
    "        connection.close()"
   ]
  },
  {
   "cell_type": "code",
   "execution_count": 2,
   "id": "e76e3fd8",
   "metadata": {},
   "outputs": [
    {
     "name": "stdout",
     "output_type": "stream",
     "text": [
      "Bases de datos disponibles:\n",
      "IIDDBDWorldFactbook\n",
      "IIDDBDsmartwatch\n",
      "information_schema\n",
      "mysql\n",
      "performance_schema\n",
      "sys\n"
     ]
    }
   ],
   "source": [
    "import configparser\n",
    "import mysql.connector\n",
    "\n",
    "fig = ConfigConnection(path=\"./config.ini\")\n",
    "connection = mysql.connector.connect(**config.getConfig())\n",
    "cursor = connection.cursor()\n",
    "\n",
    "try:\n",
    "    # Ejecutar la consulta SHOW DATABASES\n",
    "    cursor.execute(\"SHOW DATABASES\")\n",
    "\n",
    "    # Recorrer los resultados y mostrar los nombres de las bases de datos\n",
    "    print(\"Bases de datos disponibles:\")\n",
    "    for (database,) in cursor:\n",
    "        print(database)\n",
    "\n",
    "except Exception as e:\n",
    "    print(\"Error al ejecutar la consulta:\", e)\n",
    "finally:\n",
    "    # Cerrar el cursor y la conexión\n",
    "    cursor.close()\n",
    "    connection.close()"
   ]
  },
  {
   "cell_type": "code",
   "execution_count": 3,
   "id": "af70e0b3",
   "metadata": {},
   "outputs": [],
   "source": [
    "tools = Tools()\n",
    "\n",
    "json_data = tools.readFileJson(\"data\", \"world-factbook.json\")\n",
    "\n",
    "db_config = {\n",
    "    \"host\": \"localhost\",\n",
    "    \"user\": \"admin\",\n",
    "    \"password\": \"admin\",\n",
    "    \"database\": \"IIDDBDWorldFactbook\"\n",
    "}\n",
    "\n",
    "connection = mysql.connector.connect(**db_config)\n",
    "cursor = connection.cursor()\n",
    "\n",
    "# cursor.execute('SHOW TABLES;')\n",
    "\n",
    "# print(\"Bases de datos disponibles:\")\n",
    "# for (tables,) in cursor:\n",
    "#     print(tables)\n",
    "\n",
    "for country, info in json_data.items():\n",
    "    try:\n",
    "\n",
    "        # Inserta en la tabla Countries\n",
    "        cursor.execute(\"INSERT INTO Countries (tex_name, dec_population, dec_population_growth_percent, dec_area_km_sq, tex_map_references, int_coastline_km_sq, int_max_elevation_km, int_min_elevation_km, dec_population_density) VALUES (%s, %s, %s, %s, %s, %s, %s, %s, %s)\",\n",
    "                       (info['countrie'], \n",
    "                        float(info['population']), \n",
    "                        float(info['Population growth rate']) if info['Population growth rate'] != '' and info['Population growth rate'] != 'NA' else 0, \n",
    "                        float(info['area']) if info['area'] != '' else 0, \n",
    "                        info['Map references'] if info['Map references'] != 'france' else 'Europe', \n",
    "                        float(info['Coastline']), \n",
    "                        float(info['elevation highest point']) if info['elevation highest point'] != '' else 0, \n",
    "                        float(info['elevation lowest point']) if info['elevation lowest point'] != '' else 0, \n",
    "                        float(info['population']) / float(info['area']) if info['area'] != '' and float(info['area']) != 0 else 0\n",
    "                       ))\n",
    "\n",
    "#         # Inserta en la tabla Education (usando id_countries_fk como llave foránea)\n",
    "#         cursor.execute(\"INSERT INTO Education (id_countries_fk, int_school_life_time, dec_education_cost_percent_GDP) VALUES (LAST_INSERT_ID(), %s, %s)\",\n",
    "#                        (info['education']['school life expectancy'], info['education']['Education expenditures']))\n",
    "        \n",
    "#         # Inserta en la tabla Economy (usando id_countries_fk como llave foránea)\n",
    "#         cursor.execute(\"INSERT INTO Economy (id_countries_fk, dec_GDP_general_billion_of_dollars, dec_GDP_contribution_agriculture_percent, dec_GDP_contribution_industry_percent, dec_GDP_contribution_service_percent) VALUES (LAST_INSERT_ID(), %s, %s, %s, %s)\",\n",
    "#                        (info['economy']['GDP'], info['economy']['GDP_contribution_agriculture'], info['economy']['GDP_contribution_industry'], info['economy']['GDP_contribution_services']))\n",
    "\n",
    "#         # Inserta en la tabla Health (usando id_countries_fk como llave foránea)\n",
    "#         cursor.execute(\"INSERT INTO Health (id_countries_fk, int_life_expectancy_years, int_infant_mortality_deathover1000births) VALUES (LAST_INSERT_ID(), %s, %s)\",\n",
    "#                        (info['health']['life expectancy at birth'], info['health']['infant mortality rate']))\n",
    "\n",
    "#         # Inserta en la tabla HealthProblems (usando id_health_fk como llave foránea)\n",
    "#         cursor.execute(\"INSERT INTO HealhtProblems (id_health_fk, dec_health_expenses_PercenteGDP, int_physicians_over1000population, int_hospitalbeds_density_bedsover1000population) VALUES (LAST_INSERT_ID(), %s, %s, %s)\",\n",
    "#                        (info['health']['Health problems']['Current health expenditure'], info['health']['Health problems']['Physicians density'], info['health']['Health problems']['Hospital bed density']))\n",
    "\n",
    "        # Realiza commit para cada país\n",
    "        connection.commit()\n",
    "\n",
    "    except mysql.connector.Error as err:\n",
    "        print(f\"Error inserting data for {info['countrie']}: {err}\")\n",
    "\n",
    "#Cierra el cursor y la conexión\n",
    "cursor.close()\n",
    "connection.close()"
   ]
  },
  {
   "cell_type": "code",
   "execution_count": 21,
   "id": "0f0baa3b",
   "metadata": {},
   "outputs": [
    {
     "name": "stdout",
     "output_type": "stream",
     "text": [
      "85.38988312962798\n"
     ]
    }
   ],
   "source": [
    "#                 print(\"Countries\")\n",
    "#                 print(info['countrie'], float(info['population']), \n",
    "#                       float(info['Population growth rate']) if info['Population growth rate'] != '' and info['Population growth rate'] != 'NA' else 0, \n",
    "#                       float(info['area']) if info['area'] != '' else 0, info['Map references'], info['Coastline'], info['elevation highest point'], info['elevation lowest point'], float(info['population']) / float(info['area']) if info['area'] != '' and float(info['area']) != 0 else 0)\n",
    "#                 print(\"Economy\")\n",
    "#                 print(info['economy']['GDP'], info['economy']['GDP_contribution_agriculture'], info['economy']['GDP_contribution_industry'], info['economy']['GDP_contribution_services'])\n",
    "#                 print(\"Education\")\n",
    "#                 print(info['education']['school life expectancy'], info['education']['Education expenditures'])\n",
    "#                 print(\"Health\")\n",
    "#                 print(info['health']['life expectancy at birth'], info['health']['infant mortality rate'])\n",
    "#                 print(\"HealthProblems\")\n",
    "#                 print(info['health']['Health problems']['Current health expenditure'], info['health']['Health problems']['Physicians density'], info['health']['Health problems']['Hospital bed density'])\n",
    "#                 print()\n"
   ]
  },
  {
   "cell_type": "code",
   "execution_count": 13,
   "id": "7e279443",
   "metadata": {},
   "outputs": [
    {
     "ename": "SyntaxError",
     "evalue": "invalid syntax (1919572083.py, line 1)",
     "output_type": "error",
     "traceback": [
      "\u001b[0;36m  Cell \u001b[0;32mIn[13], line 1\u001b[0;36m\u001b[0m\n\u001b[0;31m    print(['hola': '1'])\u001b[0m\n\u001b[0m                 ^\u001b[0m\n\u001b[0;31mSyntaxError\u001b[0m\u001b[0;31m:\u001b[0m invalid syntax\n"
     ]
    }
   ],
   "source": []
  }
 ],
 "metadata": {
  "kernelspec": {
   "display_name": "Python 3 (ipykernel)",
   "language": "python",
   "name": "python3"
  },
  "language_info": {
   "codemirror_mode": {
    "name": "ipython",
    "version": 3
   },
   "file_extension": ".py",
   "mimetype": "text/x-python",
   "name": "python",
   "nbconvert_exporter": "python",
   "pygments_lexer": "ipython3",
   "version": "3.10.6"
  }
 },
 "nbformat": 4,
 "nbformat_minor": 5
}
